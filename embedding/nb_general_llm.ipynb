{
 "cells": [
  {
   "cell_type": "code",
   "execution_count": 1,
   "id": "5636eddb-475c-442e-a12d-808ccefc4c34",
   "metadata": {},
   "outputs": [],
   "source": [
    "import sys\n",
    "sys.path.insert(0, '../backend/')"
   ]
  },
  {
   "cell_type": "code",
   "execution_count": 5,
   "id": "b1bbd292-0505-4ab0-a369-0365778a4c52",
   "metadata": {},
   "outputs": [],
   "source": [
    "from utils import get_single_answer\n",
    "from langchain.prompts import PromptTemplate\n",
    "from langchain.schema import StrOutputParser\n",
    "from langchain.schema.runnable import RunnablePassthrough\n",
    "from langchain.text_splitter import CharacterTextSplitter\n",
    "from langchain_openai import OpenAIEmbeddings, ChatOpenAI"
   ]
  },
  {
   "cell_type": "code",
   "execution_count": 12,
   "id": "6f64dea8-6fca-444b-bfff-984ca0acc2fc",
   "metadata": {},
   "outputs": [],
   "source": [
    "def create_general_llm():\n",
    "    # Initialize the OpenAI model\n",
    "    llm = ChatOpenAI(model_name=\"gpt-3.5-turbo\", temperature=0)\n",
    "\n",
    "    # Define the prompt template for the chatbot\n",
    "    prompt_template = \"\"\"\n",
    "    You are a helpful chatbot assistant. Answer  all the user's input, \n",
    "    except if the user is looking for healthcare or medical services, ask the user: Would you like me to search in our database?\n",
    "    Input: {question} \n",
    "    Answer: \n",
    "    \"\"\"\n",
    "\n",
    "    # Create the prompt template for the chatbot\n",
    "    prompt = PromptTemplate(\n",
    "        input_variables=[\"question\"],\n",
    "        template=prompt_template,\n",
    "    )\n",
    "\n",
    "    # Create the LangChain\n",
    "    query_chain = (\n",
    "        {\"question\": RunnablePassthrough()}\n",
    "        | prompt\n",
    "        | llm\n",
    "        | StrOutputParser()\n",
    "    )\n",
    "    return query_chain"
   ]
  },
  {
   "cell_type": "code",
   "execution_count": 13,
   "id": "f7941aa4-ea55-48ce-b4fc-42fd5cdeeb45",
   "metadata": {},
   "outputs": [],
   "source": [
    "general_chain = create_general_llm()"
   ]
  },
  {
   "cell_type": "code",
   "execution_count": 14,
   "id": "cfc107f9-3dad-4db2-ba17-a212cb076793",
   "metadata": {},
   "outputs": [
    {
     "data": {
      "text/plain": [
       "'Hi! How can I assist you today?'"
      ]
     },
     "execution_count": 14,
     "metadata": {},
     "output_type": "execute_result"
    }
   ],
   "source": [
    "query = 'Hi'    \n",
    "answer = general_chain.invoke(\n",
    "        {\"question\": query}\n",
    "    )\n",
    "answer"
   ]
  },
  {
   "cell_type": "code",
   "execution_count": 15,
   "id": "e8ec68e0-1558-45cb-ab35-7335bab9ef97",
   "metadata": {},
   "outputs": [
    {
     "data": {
      "text/plain": [
       "'The capital of France is Paris.'"
      ]
     },
     "execution_count": 15,
     "metadata": {},
     "output_type": "execute_result"
    }
   ],
   "source": [
    "query = 'What is the capital of France?'    \n",
    "answer = general_chain.invoke(\n",
    "        {\"question\": query}\n",
    "    )\n",
    "answer"
   ]
  },
  {
   "cell_type": "code",
   "execution_count": 16,
   "id": "09ff2f34-a685-4201-a79f-e37b0005e214",
   "metadata": {},
   "outputs": [
    {
     "data": {
      "text/plain": [
       "'Would you like me to search in our database?'"
      ]
     },
     "execution_count": 16,
     "metadata": {},
     "output_type": "execute_result"
    }
   ],
   "source": [
    "query = 'I need to visit a Portuguese Orthodontist'    \n",
    "answer = general_chain.invoke(\n",
    "        {\"question\": query}\n",
    "    )\n",
    "answer"
   ]
  },
  {
   "cell_type": "code",
   "execution_count": null,
   "id": "2df00462-7f4b-46dd-9dd7-dd7d1b72b15f",
   "metadata": {},
   "outputs": [],
   "source": []
  },
  {
   "cell_type": "code",
   "execution_count": null,
   "id": "6a502246-176d-4292-acea-b06d26fcc9b3",
   "metadata": {},
   "outputs": [],
   "source": []
  }
 ],
 "metadata": {
  "kernelspec": {
   "display_name": "Python 3 (ipykernel)",
   "language": "python",
   "name": "python3"
  },
  "language_info": {
   "codemirror_mode": {
    "name": "ipython",
    "version": 3
   },
   "file_extension": ".py",
   "mimetype": "text/x-python",
   "name": "python",
   "nbconvert_exporter": "python",
   "pygments_lexer": "ipython3",
   "version": "3.10.13"
  }
 },
 "nbformat": 4,
 "nbformat_minor": 5
}
